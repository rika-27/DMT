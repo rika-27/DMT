{
  "nbformat": 4,
  "nbformat_minor": 0,
  "metadata": {
    "colab": {
      "name": "SPAM/HAM.ipynb",
      "provenance": [],
      "collapsed_sections": [],
      "include_colab_link": true
    },
    "kernelspec": {
      "name": "python3",
      "display_name": "Python 3"
    }
  },
  "cells": [
    {
      "cell_type": "markdown",
      "metadata": {
        "id": "view-in-github",
        "colab_type": "text"
      },
      "source": [
        "<a href=\"https://colab.research.google.com/github/rika-27/DMT/blob/master/SPAM_HAM.ipynb\" target=\"_parent\"><img src=\"https://colab.research.google.com/assets/colab-badge.svg\" alt=\"Open In Colab\"/></a>"
      ]
    },
    {
      "cell_type": "code",
      "metadata": {
        "id": "WdSHbQ1iOqbc",
        "colab_type": "code",
        "colab": {}
      },
      "source": [
        "import pandas as pd\n",
        "import numpy as np\n",
        "import matplotlib.pyplot as plt\n",
        "import seaborn as sns\n",
        "import sklearn\n",
        "from nltk.stem import PorterStemmer\n",
        "from nltk.tokenize import word_tokenize \n",
        "from sklearn import datasets\n",
        "from sklearn.model_selection import train_test_split\n",
        "from sklearn.neural_network import MLPClassifier\n",
        "from sklearn.metrics import accuracy_score"
      ],
      "execution_count": 0,
      "outputs": []
    },
    {
      "cell_type": "code",
      "metadata": {
        "id": "Z1DlcEnEfHQ4",
        "colab_type": "code",
        "colab": {}
      },
      "source": [
        "def remove_spaces(x): \n",
        "  while('' in x) : \n",
        "    x.remove('')\n",
        "  return x\n",
        "\n",
        "def stems_the_word(word):\n",
        "  if word.isalpha():\n",
        "    try:\n",
        "      if word in [\"ü\", \"Ü\"]:\n",
        "        return stem_dict[ps.stem('u')]\n",
        "      elif word in [\"É\",\"é\"]:\n",
        "        return stem_dict[ps.stem('e')]\n",
        "      elif word in [\"nìte\"]:\n",
        "        return stem_dict[ps.stem('nite')]\n",
        "      return stem_dict[ps.stem(word.lower())]\n",
        "    except KeyError:\n",
        "      return stem_dict[ps.stem('or')]\n",
        "  else:\n",
        "    return -10\n",
        "\n",
        "def pad_me(x):\n",
        "  zeros_list = np.zeros(39)\n",
        "  zeros_list[:len(x)] = x\n",
        "  return zeros_list\n",
        "\n",
        "\n",
        "ps = PorterStemmer()"
      ],
      "execution_count": 0,
      "outputs": []
    },
    {
      "cell_type": "code",
      "metadata": {
        "id": "NsVqpL6fPC0t",
        "colab_type": "code",
        "outputId": "afeed859-d40d-4559-e58d-d8bf1db35c36",
        "colab": {
          "base_uri": "https://localhost:8080/",
          "height": 1000
        }
      },
      "source": [
        "df = pd.read_csv('SmsCollection.csv', sep='Noel')\n",
        "df.label = pd.factorize(df.label)[0]\n",
        "df = pd.concat([df, pd.DataFrame({'sp_char_count': df.text.apply(lambda x: [(s.isalpha() or s.isdigit() or s == ' ' ) for s in x].count(False))})], axis=1)\n",
        "fig, (ax1, ax2) = plt.subplots(1, 2, figsize=(10, 4))\n",
        "sns.scatterplot(df.label, df.sp_char_count, ax=ax1)\n",
        "ax1.set_title('Scatter plot of special characters per label')\n",
        "df.text = df.text.str.replace('\\W', ' ', regex = True)\n",
        "df.text = df.text.str.split(' ').apply(lambda x: ' '.join(map(str, remove_spaces(x))))\n",
        "df = pd.concat([df, pd.DataFrame({'word_count' :df.text.str.split(' ').apply(lambda x: len(x))})], axis = 1)\n",
        "sns.scatterplot(df.label, df.word_count, ax=ax2)\n",
        "ax2.set_title('Scatter plot of word_count per label')\n",
        "unique_words = list(df.text.str.replace('[^a-zA-Z ]', '').str.lower().str.split(' ').sum())\n",
        "stem = []\n",
        "for word in unique_words:\n",
        "  stem.append(ps.stem(word))\n",
        "stem = list(dict.fromkeys(stem))\n",
        "print(len(unique_words), '->' ,len(stem))\n",
        "stem_dict = dict.fromkeys(stem)\n",
        "for key in stem_dict.keys():\n",
        "  stem_dict[key] = stem.index(key)\n",
        "print('Preparation of the stem dictionary complete!')\n",
        "df = pd.concat([df,pd.DataFrame({'conv_text': df.text.str.split(' ').apply(lambda x: [stems_the_word(word) for word in x])})], axis=1)\n",
        "# df = pd.concat([df, pd.DataFrame({'number_count': df.conv_text.apply(lambda x: x.count(-10))})], axis = 1)\n",
        "# sns.scatterplot(df.label, df.number_count, ax=ax3)\n",
        "# ax3.set_title('Scatter plot of number_count per label')\n",
        "plt.show()\n",
        "df.word_count.loc[df.word_count <= 39] = 1\n",
        "df.word_count.loc[df.word_count > 1] = 0\n",
        "df.sp_char_count.loc[df.sp_char_count <= 26] = 1\n",
        "df.sp_char_count.loc[df.sp_char_count > 1] = 0\n",
        "df['conv_text'] = df.conv_text.apply(lambda x: x[:39])\n",
        "df['conv_text'] =  df.conv_text.apply(lambda x: pad_me(x))\n",
        "df['conv_text'] = df.conv_text.apply(lambda x: x / 6483)\n",
        "df"
      ],
      "execution_count": 0,
      "outputs": [
        {
          "output_type": "stream",
          "text": [
            "/usr/local/lib/python3.6/dist-packages/ipykernel_launcher.py:1: ParserWarning: Falling back to the 'python' engine because the 'c' engine does not support regex separators (separators > 1 char and different from '\\s+' are interpreted as regex); you can avoid this warning by specifying engine='python'.\n",
            "  \"\"\"Entry point for launching an IPython kernel.\n"
          ],
          "name": "stderr"
        },
        {
          "output_type": "stream",
          "text": [
            "89943 -> 6483\n",
            "Preparation of the stem dictionary complete!\n"
          ],
          "name": "stdout"
        },
        {
          "output_type": "display_data",
          "data": {
            "image/png": "[encoded data removed]",
            "text/plain": [
              "<Figure size 720x288 with 2 Axes>"
            ]
          },
          "metadata": {
            "tags": [],
            "needs_background": "light"
          }
        },
        {
          "output_type": "stream",
          "text": [
            "/usr/local/lib/python3.6/dist-packages/pandas/core/indexing.py:671: SettingWithCopyWarning: \n",
            "A value is trying to be set on a copy of a slice from a DataFrame\n",
            "\n",
            "See the caveats in the documentation: https://pandas.pydata.org/pandas-docs/stable/user_guide/indexing.html#returning-a-view-versus-a-copy\n",
            "  self._setitem_with_indexer(indexer, value)\n"
          ],
          "name": "stderr"
        },
        {
          "output_type": "execute_result",
          "data": {
            "text/html": [
              "<div>\n",
              "<style scoped>\n",
              "    .dataframe tbody tr th:only-of-type {\n",
              "        vertical-align: middle;\n",
              "    }\n",
              "\n",
              "    .dataframe tbody tr th {\n",
              "        vertical-align: top;\n",
              "    }\n",
              "\n",
              "    .dataframe thead th {\n",
              "        text-align: right;\n",
              "    }\n",
              "</style>\n",
              "<table border=\"1\" class=\"dataframe\">\n",
              "  <thead>\n",
              "    <tr style=\"text-align: right;\">\n",
              "      <th></th>\n",
              "      <th>label</th>\n",
              "      <th>text</th>\n",
              "      <th>sp_char_count</th>\n",
              "      <th>word_count</th>\n",
              "      <th>conv_text</th>\n",
              "    </tr>\n",
              "  </thead>\n",
              "  <tbody>\n",
              "    <tr>\n",
              "      <th>0</th>\n",
              "      <td>0</td>\n",
              "      <td>Go until jurong point crazy Available only in ...</td>\n",
              "      <td>1</td>\n",
              "      <td>1</td>\n",
              "      <td>[0.0, 0.00015424957581366652, 0.00030849915162...</td>\n",
              "    </tr>\n",
              "    <tr>\n",
              "      <th>1</th>\n",
              "      <td>0</td>\n",
              "      <td>Ok lar Joking wif u oni</td>\n",
              "      <td>1</td>\n",
              "      <td>1</td>\n",
              "      <td>[0.00308499151627333, 0.003239241092086997, 0....</td>\n",
              "    </tr>\n",
              "    <tr>\n",
              "      <th>2</th>\n",
              "      <td>1</td>\n",
              "      <td>Free entry in 2 a wkly comp to win FA Cup fina...</td>\n",
              "      <td>1</td>\n",
              "      <td>1</td>\n",
              "      <td>[0.004010488971155329, 0.0041647385469689956, ...</td>\n",
              "    </tr>\n",
              "    <tr>\n",
              "      <th>3</th>\n",
              "      <td>0</td>\n",
              "      <td>U dun say so early hor U c already then say</td>\n",
              "      <td>1</td>\n",
              "      <td>1</td>\n",
              "      <td>[0.0037019898195279964, 0.007866728366496992, ...</td>\n",
              "    </tr>\n",
              "    <tr>\n",
              "      <th>4</th>\n",
              "      <td>0</td>\n",
              "      <td>Nah I don t think he goes to usf he lives arou...</td>\n",
              "      <td>1</td>\n",
              "      <td>1</td>\n",
              "      <td>[0.008946475397192658, 0.009100724973006324, 0...</td>\n",
              "    </tr>\n",
              "    <tr>\n",
              "      <th>...</th>\n",
              "      <td>...</td>\n",
              "      <td>...</td>\n",
              "      <td>...</td>\n",
              "      <td>...</td>\n",
              "      <td>...</td>\n",
              "    </tr>\n",
              "    <tr>\n",
              "      <th>5569</th>\n",
              "      <td>1</td>\n",
              "      <td>This is the 2nd time we have tried 2 contact u...</td>\n",
              "      <td>1</td>\n",
              "      <td>1</td>\n",
              "      <td>[0.024525682554372975, 0.014807959278111986, 0...</td>\n",
              "    </tr>\n",
              "    <tr>\n",
              "      <th>5570</th>\n",
              "      <td>0</td>\n",
              "      <td>Will ü b going to esplanade fr home</td>\n",
              "      <td>1</td>\n",
              "      <td>1</td>\n",
              "      <td>[0.031004164738546967, 0.0037019898195279964, ...</td>\n",
              "    </tr>\n",
              "    <tr>\n",
              "      <th>5571</th>\n",
              "      <td>0</td>\n",
              "      <td>Pity was in mood for that So any other suggest...</td>\n",
              "      <td>1</td>\n",
              "      <td>1</td>\n",
              "      <td>[0.9998457504241863, 0.05059386086688262, 0.00...</td>\n",
              "    </tr>\n",
              "    <tr>\n",
              "      <th>5572</th>\n",
              "      <td>0</td>\n",
              "      <td>The guy did some bitching but I acted like i d...</td>\n",
              "      <td>1</td>\n",
              "      <td>1</td>\n",
              "      <td>[0.022366188492981644, 0.14684559617461052, 0....</td>\n",
              "    </tr>\n",
              "    <tr>\n",
              "      <th>5573</th>\n",
              "      <td>0</td>\n",
              "      <td>Rofl Its true to its name</td>\n",
              "      <td>1</td>\n",
              "      <td>1</td>\n",
              "      <td>[0.45040876137590624, 0.011105969458583989, 0....</td>\n",
              "    </tr>\n",
              "  </tbody>\n",
              "</table>\n",
              "<p>5574 rows × 5 columns</p>\n",
              "</div>"
            ],
            "text/plain": [
              "      label  ...                                          conv_text\n",
              "0         0  ...  [0.0, 0.00015424957581366652, 0.00030849915162...\n",
              "1         0  ...  [0.00308499151627333, 0.003239241092086997, 0....\n",
              "2         1  ...  [0.004010488971155329, 0.0041647385469689956, ...\n",
              "3         0  ...  [0.0037019898195279964, 0.007866728366496992, ...\n",
              "4         0  ...  [0.008946475397192658, 0.009100724973006324, 0...\n",
              "...     ...  ...                                                ...\n",
              "5569      1  ...  [0.024525682554372975, 0.014807959278111986, 0...\n",
              "5570      0  ...  [0.031004164738546967, 0.0037019898195279964, ...\n",
              "5571      0  ...  [0.9998457504241863, 0.05059386086688262, 0.00...\n",
              "5572      0  ...  [0.022366188492981644, 0.14684559617461052, 0....\n",
              "5573      0  ...  [0.45040876137590624, 0.011105969458583989, 0....\n",
              "\n",
              "[5574 rows x 5 columns]"
            ]
          },
          "metadata": {
            "tags": []
          },
          "execution_count": 378
        }
      ]
    },
    {
      "cell_type": "code",
      "metadata": {
        "id": "6S9c8D4s2jGe",
        "colab_type": "code",
        "outputId": "ad95b89a-9942-4320-ebfc-8c009d286dbc",
        "colab": {
          "base_uri": "https://localhost:8080/",
          "height": 34
        }
      },
      "source": [
        "X_val= df[['sp_char_count', 'word_count']].values\n",
        "x = df['conv_text'].values\n",
        "X = []\n",
        "for i in range(X_val.shape[0]):\n",
        "  X.append(np.append(X_val[i], x[i][:]))\n",
        "y = df.label.values\n",
        "len(X), len(y)\n"
      ],
      "execution_count": 0,
      "outputs": [
        {
          "output_type": "execute_result",
          "data": {
            "text/plain": [
              "(5574, 5574)"
            ]
          },
          "metadata": {
            "tags": []
          },
          "execution_count": 379
        }
      ]
    },
    {
      "cell_type": "code",
      "metadata": {
        "id": "0YfIjw155_L9",
        "colab_type": "code",
        "colab": {}
      },
      "source": [
        "# X = list(x)\n",
        "X_train, X_test, y_train, y_test = train_test_split(X, y, test_size=0.20, random_state=27)"
      ],
      "execution_count": 0,
      "outputs": []
    },
    {
      "cell_type": "code",
      "metadata": {
        "id": "PJk69sudEVfE",
        "colab_type": "code",
        "colab": {}
      },
      "source": [
        "model = MLPClassifier(hidden_layer_sizes=(100, ), activation='relu', solver='adam',\n",
        "                                             alpha=0.0001, batch_size='auto', learning_rate='constant', learning_rate_init=0.001, \n",
        "                                             power_t=0.5, max_iter=200, shuffle=True, random_state=None, tol=0.0001, verbose=False, \n",
        "                                             warm_start=False, momentum=0.9, nesterovs_momentum=True, early_stopping=False, \n",
        "                                             validation_fraction=0.1, beta_1=0.9, beta_2=0.999, epsilon=1e-08, n_iter_no_change=10, max_fun=15000)"
      ],
      "execution_count": 0,
      "outputs": []
    },
    {
      "cell_type": "code",
      "metadata": {
        "id": "nnwYa-QQEznz",
        "colab_type": "code",
        "outputId": "bafda4cc-6075-4781-bcf8-899288a36afd",
        "colab": {
          "base_uri": "https://localhost:8080/",
          "height": 71
        }
      },
      "source": [
        "mlp = model.fit(list(X_train), y_train)"
      ],
      "execution_count": 0,
      "outputs": [
        {
          "output_type": "stream",
          "text": [
            "/usr/local/lib/python3.6/dist-packages/sklearn/neural_network/_multilayer_perceptron.py:571: ConvergenceWarning: Stochastic Optimizer: Maximum iterations (200) reached and the optimization hasn't converged yet.\n",
            "  % self.max_iter, ConvergenceWarning)\n"
          ],
          "name": "stderr"
        }
      ]
    },
    {
      "cell_type": "code",
      "metadata": {
        "id": "P75bXkC5HoWs",
        "colab_type": "code",
        "outputId": "e906cc68-71c5-4f6a-d8a0-3d3153bbe799",
        "colab": {
          "base_uri": "https://localhost:8080/",
          "height": 34
        }
      },
      "source": [
        "y_pred = model.predict(X_test)\n",
        "print('accuracy score', accuracy_score(y_test, y_pred)*100)"
      ],
      "execution_count": 0,
      "outputs": [
        {
          "output_type": "stream",
          "text": [
            "accuracy score 86.54708520179372\n"
          ],
          "name": "stdout"
        }
      ]
    },
    {
      "cell_type": "code",
      "metadata": {
        "id": "sj9-_Xn-ZxKo",
        "colab_type": "code",
        "colab": {}
      },
      "source": [
        ""
      ],
      "execution_count": 0,
      "outputs": []
    }
  ]
}