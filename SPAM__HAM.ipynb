{
  "nbformat": 4,
  "nbformat_minor": 0,
  "metadata": {
    "colab": {
      "name": "SPAM__HAM.ipynb",
      "provenance": [],
      "collapsed_sections": [],
      "include_colab_link": true
    },
    "kernelspec": {
      "name": "python3",
      "display_name": "Python 3"
    },
    "accelerator": "GPU"
  },
  "cells": [
    {
      "cell_type": "markdown",
      "metadata": {
        "id": "view-in-github",
        "colab_type": "text"
      },
      "source": [
        "<a href=\"https://colab.research.google.com/github/rika-27/DMT/blob/master/SPAM__HAM.ipynb\" target=\"_parent\"><img src=\"https://colab.research.google.com/assets/colab-badge.svg\" alt=\"Open In Colab\"/></a>"
      ]
    },
    {
      "cell_type": "code",
      "metadata": {
        "id": "WdSHbQ1iOqbc",
        "colab_type": "code",
        "outputId": "3275895a-316c-4986-df32-ca755f7c208b",
        "colab": {
          "base_uri": "https://localhost:8080/",
          "height": 71
        }
      },
      "source": [
        "import pandas as pd\n",
        "import numpy as np\n",
        "import matplotlib.pyplot as plt\n",
        "import seaborn as sns\n",
        "import sklearn\n",
        "from nltk.stem import PorterStemmer\n",
        "from nltk.tokenize import word_tokenize \n",
        "from sklearn import datasets\n",
        "from sklearn.model_selection import train_test_split\n",
        "from sklearn.neural_network import MLPClassifier\n",
        "from sklearn.metrics import accuracy_score\n",
        "from sklearn.model_selection import GridSearchCV"
      ],
      "execution_count": 0,
      "outputs": [
        {
          "output_type": "stream",
          "text": [
            "/usr/local/lib/python3.6/dist-packages/statsmodels/tools/_testing.py:19: FutureWarning: pandas.util.testing is deprecated. Use the functions in the public API at pandas.testing instead.\n",
            "  import pandas.util.testing as tm\n"
          ],
          "name": "stderr"
        }
      ]
    },
    {
      "cell_type": "code",
      "metadata": {
        "id": "Z1DlcEnEfHQ4",
        "colab_type": "code",
        "colab": {}
      },
      "source": [
        "def remove_spaces(x): \n",
        "  while('' in x) : \n",
        "    x.remove('')\n",
        "  return x\n",
        "\n",
        "def stems_the_word(word):\n",
        "  if word.isalpha():\n",
        "    try:\n",
        "      if word in [\"ü\", \"Ü\"]:\n",
        "        return stem_dict[ps.stem('u')]\n",
        "      elif word in [\"É\",\"é\"]:\n",
        "        return stem_dict[ps.stem('e')]\n",
        "      elif word in [\"nìte\"]:\n",
        "        return stem_dict[ps.stem('nite')]\n",
        "      return stem_dict[ps.stem(word.lower())]\n",
        "    except KeyError:\n",
        "      return stem_dict[ps.stem('or')]\n",
        "  else:\n",
        "    return -10\n",
        "\n",
        "def pad_me(x):\n",
        "  zeros_list = np.zeros(39)\n",
        "  zeros_list[:len(x)] = x\n",
        "  return zeros_list\n",
        "\n",
        "\n",
        "ps = PorterStemmer()"
      ],
      "execution_count": 0,
      "outputs": []
    },
    {
      "cell_type": "code",
      "metadata": {
        "id": "NsVqpL6fPC0t",
        "colab_type": "code",
        "outputId": "4a8bcdbb-bfde-41bc-bbb7-3c4a0962378a",
        "colab": {
          "base_uri": "https://localhost:8080/",
          "height": 870
        }
      },
      "source": [
        "df = pd.read_csv('SmsCollection.csv', sep='Noel')\n",
        "df.label = pd.factorize(df.label)[0]\n",
        "df = pd.concat([df, pd.DataFrame({'sp_char_count': df.text.apply(lambda x: [(s.isalpha() or s.isdigit() or s == ' ' ) for s in x].count(False))})], axis=1)\n",
        "fig, (ax1, ax2) = plt.subplots(1, 2, figsize=(10, 4))\n",
        "sns.scatterplot(df.label, df.sp_char_count, ax=ax1)\n",
        "ax1.set_title('Scatter plot of special characters per label')\n",
        "df.text = df.text.str.replace('\\W', ' ', regex = True)\n",
        "df.text = df.text.str.split(' ').apply(lambda x: ' '.join(map(str, remove_spaces(x))))\n",
        "df = pd.concat([df, pd.DataFrame({'word_count' :df.text.str.split(' ').apply(lambda x: len(x))})], axis = 1)\n",
        "sns.scatterplot(df.label, df.word_count, ax=ax2)\n",
        "ax2.set_title('Scatter plot of word_count per label')\n",
        "df.word_count.loc[df.word_count <= 39] = 1\n",
        "df.word_count.loc[df.word_count > 1] = 0\n",
        "df.sp_char_count.loc[df.sp_char_count <= 26] = 1\n",
        "df.sp_char_count.loc[df.sp_char_count > 1] = 0\n",
        "df['text'] = df.text.apply(lambda x: x[:39])\n",
        "\n",
        "unique_words = list(df.text.str.replace('[^a-zA-Z ]', '').str.lower().str.split(' ').sum())\n",
        "stem = []\n",
        "for word in unique_words:\n",
        "  stem.append(ps.stem(word))\n",
        "stem = list(dict.fromkeys(stem))\n",
        "print(len(unique_words), '->' ,len(stem))\n",
        "stem_dict = dict.fromkeys(stem)\n",
        "for key in stem_dict.keys():\n",
        "  stem_dict[key] = stem.index(key)\n",
        "print('Preparation of the stem dictionary complete!')\n",
        "\n",
        "df = pd.concat([df,pd.DataFrame({'conv_text': df.text.str.split(' ').apply(lambda x: [stems_the_word(word) for word in x])})], axis=1)\n",
        "# df = pd.concat([df, pd.DataFrame({'number_count': df.conv_text.apply(lambda x: x.count(-10))})], axis = 1)\n",
        "# sns.scatterplot(df.label, df.number_count, ax=ax3)\n",
        "# ax3.set_title('Scatter plot of number_count per label')\n",
        "plt.show()\n",
        "\n",
        "df['conv_text'] =  df.conv_text.apply(lambda x: pad_me(x))\n",
        "df['conv_text'] = df.conv_text.apply(lambda x: x / 4352)\n",
        "df"
      ],
      "execution_count": 0,
      "outputs": [
        {
          "output_type": "stream",
          "text": [
            "/usr/local/lib/python3.6/dist-packages/ipykernel_launcher.py:1: ParserWarning: Falling back to the 'python' engine because the 'c' engine does not support regex separators (separators > 1 char and different from '\\s+' are interpreted as regex); you can avoid this warning by specifying engine='python'.\n",
            "  \"\"\"Entry point for launching an IPython kernel.\n",
            "/usr/local/lib/python3.6/dist-packages/pandas/core/indexing.py:671: SettingWithCopyWarning: \n",
            "A value is trying to be set on a copy of a slice from a DataFrame\n",
            "\n",
            "See the caveats in the documentation: https://pandas.pydata.org/pandas-docs/stable/user_guide/indexing.html#returning-a-view-versus-a-copy\n",
            "  self._setitem_with_indexer(indexer, value)\n"
          ],
          "name": "stderr"
        },
        {
          "output_type": "stream",
          "text": [
            "44667 -> 4352\n",
            "Preparation of the stem dictionary complete!\n"
          ],
          "name": "stdout"
        },
        {
          "output_type": "display_data",
          "data": {
            "image/png": "[encoded data removed]",
            "text/plain": [
              "<Figure size 720x288 with 2 Axes>"
            ]
          },
          "metadata": {
            "tags": [],
            "needs_background": "light"
          }
        },
        {
          "output_type": "execute_result",
          "data": {
            "text/html": [
              "<div>\n",
              "<style scoped>\n",
              "    .dataframe tbody tr th:only-of-type {\n",
              "        vertical-align: middle;\n",
              "    }\n",
              "\n",
              "    .dataframe tbody tr th {\n",
              "        vertical-align: top;\n",
              "    }\n",
              "\n",
              "    .dataframe thead th {\n",
              "        text-align: right;\n",
              "    }\n",
              "</style>\n",
              "<table border=\"1\" class=\"dataframe\">\n",
              "  <thead>\n",
              "    <tr style=\"text-align: right;\">\n",
              "      <th></th>\n",
              "      <th>label</th>\n",
              "      <th>text</th>\n",
              "      <th>sp_char_count</th>\n",
              "      <th>word_count</th>\n",
              "      <th>conv_text</th>\n",
              "    </tr>\n",
              "  </thead>\n",
              "  <tbody>\n",
              "    <tr>\n",
              "      <th>0</th>\n",
              "      <td>0</td>\n",
              "      <td>Go until jurong point crazy Available o</td>\n",
              "      <td>1</td>\n",
              "      <td>1</td>\n",
              "      <td>[0.0, 0.00022977941176470588, 0.00045955882352...</td>\n",
              "    </tr>\n",
              "    <tr>\n",
              "      <th>1</th>\n",
              "      <td>0</td>\n",
              "      <td>Ok lar Joking wif u oni</td>\n",
              "      <td>1</td>\n",
              "      <td>1</td>\n",
              "      <td>[0.001608455882352941, 0.001838235294117647, 0...</td>\n",
              "    </tr>\n",
              "    <tr>\n",
              "      <th>2</th>\n",
              "      <td>1</td>\n",
              "      <td>Free entry in 2 a wkly comp to win FA C</td>\n",
              "      <td>1</td>\n",
              "      <td>1</td>\n",
              "      <td>[0.0029871323529411763, 0.003216911764705882, ...</td>\n",
              "    </tr>\n",
              "    <tr>\n",
              "      <th>3</th>\n",
              "      <td>0</td>\n",
              "      <td>U dun say so early hor U c already then</td>\n",
              "      <td>1</td>\n",
              "      <td>1</td>\n",
              "      <td>[0.002527573529411765, 0.0055147058823529415, ...</td>\n",
              "    </tr>\n",
              "    <tr>\n",
              "      <th>4</th>\n",
              "      <td>0</td>\n",
              "      <td>Nah I don t think he goes to usf he liv</td>\n",
              "      <td>1</td>\n",
              "      <td>1</td>\n",
              "      <td>[0.007123161764705882, 0.007352941176470588, 0...</td>\n",
              "    </tr>\n",
              "    <tr>\n",
              "      <th>...</th>\n",
              "      <td>...</td>\n",
              "      <td>...</td>\n",
              "      <td>...</td>\n",
              "      <td>...</td>\n",
              "      <td>...</td>\n",
              "    </tr>\n",
              "    <tr>\n",
              "      <th>5569</th>\n",
              "      <td>1</td>\n",
              "      <td>This is the 2nd time we have tried 2 co</td>\n",
              "      <td>1</td>\n",
              "      <td>1</td>\n",
              "      <td>[0.06939338235294118, 0.01171875, 0.0215992647...</td>\n",
              "    </tr>\n",
              "    <tr>\n",
              "      <th>5570</th>\n",
              "      <td>0</td>\n",
              "      <td>Will ü b going to esplanade fr home</td>\n",
              "      <td>1</td>\n",
              "      <td>1</td>\n",
              "      <td>[0.023207720588235295, 0.002527573529411765, 0...</td>\n",
              "    </tr>\n",
              "    <tr>\n",
              "      <th>5571</th>\n",
              "      <td>0</td>\n",
              "      <td>Pity was in mood for that So any other</td>\n",
              "      <td>1</td>\n",
              "      <td>1</td>\n",
              "      <td>[0.9997702205882353, 0.04159007352941176, 0.00...</td>\n",
              "    </tr>\n",
              "    <tr>\n",
              "      <th>5572</th>\n",
              "      <td>0</td>\n",
              "      <td>The guy did some bitching but I acted l</td>\n",
              "      <td>1</td>\n",
              "      <td>1</td>\n",
              "      <td>[0.021599264705882353, 0.12959558823529413, 0....</td>\n",
              "    </tr>\n",
              "    <tr>\n",
              "      <th>5573</th>\n",
              "      <td>0</td>\n",
              "      <td>Rofl Its true to its name</td>\n",
              "      <td>1</td>\n",
              "      <td>1</td>\n",
              "      <td>[0.4227941176470588, 0.01011029411764706, 0.30...</td>\n",
              "    </tr>\n",
              "  </tbody>\n",
              "</table>\n",
              "<p>5574 rows × 5 columns</p>\n",
              "</div>"
            ],
            "text/plain": [
              "      label  ...                                          conv_text\n",
              "0         0  ...  [0.0, 0.00022977941176470588, 0.00045955882352...\n",
              "1         0  ...  [0.001608455882352941, 0.001838235294117647, 0...\n",
              "2         1  ...  [0.0029871323529411763, 0.003216911764705882, ...\n",
              "3         0  ...  [0.002527573529411765, 0.0055147058823529415, ...\n",
              "4         0  ...  [0.007123161764705882, 0.007352941176470588, 0...\n",
              "...     ...  ...                                                ...\n",
              "5569      1  ...  [0.06939338235294118, 0.01171875, 0.0215992647...\n",
              "5570      0  ...  [0.023207720588235295, 0.002527573529411765, 0...\n",
              "5571      0  ...  [0.9997702205882353, 0.04159007352941176, 0.00...\n",
              "5572      0  ...  [0.021599264705882353, 0.12959558823529413, 0....\n",
              "5573      0  ...  [0.4227941176470588, 0.01011029411764706, 0.30...\n",
              "\n",
              "[5574 rows x 5 columns]"
            ]
          },
          "metadata": {
            "tags": []
          },
          "execution_count": 6
        }
      ]
    },
    {
      "cell_type": "code",
      "metadata": {
        "id": "6S9c8D4s2jGe",
        "colab_type": "code",
        "outputId": "2d6cb3d7-1b23-4153-e8e2-82ae2bceaef9",
        "colab": {
          "base_uri": "https://localhost:8080/",
          "height": 34
        }
      },
      "source": [
        "X_val= df[['sp_char_count', 'word_count']].values\n",
        "x = df['conv_text'].values\n",
        "X = []\n",
        "for i in range(X_val.shape[0]):\n",
        "  X.append(np.append(X_val[i], x[i][:]))\n",
        "y = df.label.values\n",
        "len(X), len(y)\n"
      ],
      "execution_count": 0,
      "outputs": [
        {
          "output_type": "execute_result",
          "data": {
            "text/plain": [
              "(5574, 5574)"
            ]
          },
          "metadata": {
            "tags": []
          },
          "execution_count": 7
        }
      ]
    },
    {
      "cell_type": "code",
      "metadata": {
        "id": "0YfIjw155_L9",
        "colab_type": "code",
        "outputId": "6c364f3a-51c3-42b3-a997-8cae5abf7fee",
        "colab": {
          "base_uri": "https://localhost:8080/",
          "height": 119
        }
      },
      "source": [
        "from sklearn.tree import DecisionTreeClassifier\n",
        "from sklearn.ensemble import GradientBoostingClassifier\n",
        "\n",
        "X_train, X_test, y_train, y_test = train_test_split(X, y, test_size=0.20, random_state=27)\n",
        "model = MLPClassifier(hidden_layer_sizes=(10, ), activation='relu', solver='adam', alpha=0.0001, max_iter=200,\n",
        "                      tol=0.0001, beta_1=0.8, beta_2=0.996, epsilon=1e-05, n_iter_no_change=10)\n",
        "\n",
        "mlp = model.fit(list(X_train), y_train)\n",
        "y_pred = model.predict(X_test)\n",
        "print('MLP Test accuracy score', accuracy_score(y_test, y_pred)*100)\n",
        "y_pred = model.predict(X_train)\n",
        "print('MLP Train accuracy score', accuracy_score(y_train, y_pred)*100)\n",
        "\n",
        "dtc = DecisionTreeClassifier(max_depth=14, min_samples_split=7)\n",
        "\n",
        "dtc.fit(list(X_train), y_train)\n",
        "y_pred = dtc.predict(X_test)\n",
        "print('DTC Test accuracy score', accuracy_score(y_test, y_pred)*100)\n",
        "y_pred = dtc.predict(X_train)\n",
        "print('DTC Train accuracy score', accuracy_score(y_train, y_pred)*100)\n",
        "\n",
        "\n",
        "gbc = GradientBoostingClassifier(loss='deviance', n_estimators=180, subsample=.9, min_samples_split=7, max_depth=14)\n",
        "\n",
        "gbc.fit(list(X_train), y_train)\n",
        "y_pred = gbc.predict(X_test)\n",
        "print('GBC Test accuracy score', accuracy_score(y_test, y_pred)*100)\n",
        "y_pred = gbc.predict(X_train)\n",
        "print('GBC Train accuracy score', accuracy_score(y_train, y_pred)*100)\n",
        "\n",
        "# param_grid = {\n",
        "#     'subsample': [0.8, 0.9, 1, 1.1]\n",
        "# }\n",
        "# grid = GridSearchCV(estimator=gbc, param_grid=param_grid, n_jobs=-1, cv=3, verbose=1)\n",
        "# grid_result = grid.fit(X_train, y_train)\n",
        "# # summarize results\n",
        "# print(\"Best: %f using %s\" % (grid_result.best_score_, grid_result.best_params_))\n",
        "# means = grid_result.cv_results_['mean_test_score']\n",
        "# stds = grid_result.cv_results_['std_test_score']\n",
        "# params = grid_result.cv_results_['params']\n",
        "# for mean, stdev, param in zip(means, stds, params):\n",
        "#     print(\"%f (%f) with: %r\" % (mean, stdev, param))"
      ],
      "execution_count": 0,
      "outputs": [
        {
          "output_type": "stream",
          "text": [
            "MLP Test accuracy score 86.3677130044843\n",
            "MLP Train accuracy score 86.65620094191523\n",
            "DTC Test accuracy score 90.67264573991032\n",
            "DTC Train accuracy score 94.66248037676608\n",
            "GBC Test accuracy score 93.81165919282512\n",
            "GBC Train accuracy score 100.0\n"
          ],
          "name": "stdout"
        }
      ]
    },
    {
      "cell_type": "code",
      "metadata": {
        "id": "32oPrImjsFkx",
        "colab_type": "code",
        "outputId": "d1d80352-cc20-4f37-9c23-fc560d39e7eb",
        "colab": {
          "base_uri": "https://localhost:8080/",
          "height": 265
        }
      },
      "source": [
        "plt.plot(model.loss_curve_)\n",
        "plt.show()"
      ],
      "execution_count": 0,
      "outputs": [
        {
          "output_type": "display_data",
          "data": {
            "image/png": "[encoded data removed]",
            "text/plain": [
              "<Figure size 432x288 with 1 Axes>"
            ]
          },
          "metadata": {
            "tags": [],
            "needs_background": "light"
          }
        }
      ]
    },
    {
      "cell_type": "code",
      "metadata": {
        "id": "4E7RwpvI88YT",
        "colab_type": "code",
        "outputId": "4e71f54e-70f2-4275-9686-785aa6e65221",
        "colab": {
          "base_uri": "https://localhost:8080/",
          "height": 404
        }
      },
      "source": [
        "plt.figure(figsize=(10, 6))\n",
        "plt.scatter(list(range(len(gbc.feature_importances_))), gbc.feature_importances_)\n",
        "plt.ylabel('Importance')\n",
        "plt.xlabel('Feature Index')\n",
        "plt.title('Importance of features')\n",
        "plt.show()"
      ],
      "execution_count": 0,
      "outputs": [
        {
          "output_type": "display_data",
          "data": {
            "image/png": "[encoded data removed]",
            "text/plain": [
              "<Figure size 720x432 with 1 Axes>"
            ]
          },
          "metadata": {
            "tags": [],
            "needs_background": "light"
          }
        }
      ]
    },
    {
      "cell_type": "code",
      "metadata": {
        "id": "Zk8SESjy9AJa",
        "colab_type": "code",
        "outputId": "3295bb7e-5556-456e-d86d-f97f45a0748c",
        "colab": {
          "base_uri": "https://localhost:8080/",
          "height": 802
        }
      },
      "source": [
        "from sklearn.metrics import classification_report, confusion_matrix, roc_curve, auc\n",
        "\n",
        "print(\"MLP Confusion Matrix:\")\n",
        "print(confusion_matrix(y_test, model.predict(X_test)))\n",
        "print()\n",
        "print(\"MLP Classification Report\")\n",
        "print(classification_report(y_test, model.predict(X_test)))\n",
        "\n",
        "print(\"DTC Confusion Matrix:\")\n",
        "print(confusion_matrix(y_test, dtc.predict(X_test)))\n",
        "print()\n",
        "print(\"DTC Classification Report\")\n",
        "print(classification_report(y_test, dtc.predict(X_test)))\n",
        "\n",
        "\n",
        "print(\"GBC Confusion Matrix:\")\n",
        "print(confusion_matrix(y_test, gbc.predict(X_test)))\n",
        "print()\n",
        "print(\"GBC Classification Report\")\n",
        "print(classification_report(y_test, gbc.predict(X_test)))\n",
        "\n",
        "y_scores_gb = gbc.decision_function(X_test)\n",
        "fpr_gb, tpr_gb, _ = roc_curve(y_test, y_scores_gb)\n",
        "roc_auc_gb = auc(fpr_gb, tpr_gb)\n",
        "\n",
        "print(\"GBC Area under ROC curve = {:0.2f}\".format(roc_auc_gb))"
      ],
      "execution_count": 0,
      "outputs": [
        {
          "output_type": "stream",
          "text": [
            "MLP Confusion Matrix:\n",
            "[[963   0]\n",
            " [152   0]]\n",
            "\n",
            "MLP Classification Report\n",
            "              precision    recall  f1-score   support\n",
            "\n",
            "           0       0.86      1.00      0.93       963\n",
            "           1       0.00      0.00      0.00       152\n",
            "\n",
            "    accuracy                           0.86      1115\n",
            "   macro avg       0.43      0.50      0.46      1115\n",
            "weighted avg       0.75      0.86      0.80      1115\n",
            "\n",
            "DTC Confusion Matrix:\n",
            "[[943  20]\n",
            " [ 84  68]]\n",
            "\n",
            "DTC Classification Report\n",
            "              precision    recall  f1-score   support\n",
            "\n",
            "           0       0.92      0.98      0.95       963\n",
            "           1       0.77      0.45      0.57       152\n",
            "\n",
            "    accuracy                           0.91      1115\n",
            "   macro avg       0.85      0.71      0.76      1115\n",
            "weighted avg       0.90      0.91      0.90      1115\n",
            "\n",
            "GBC Confusion Matrix:\n",
            "[[954   9]\n",
            " [ 60  92]]\n",
            "\n",
            "GBC Classification Report\n",
            "              precision    recall  f1-score   support\n",
            "\n",
            "           0       0.94      0.99      0.97       963\n",
            "           1       0.91      0.61      0.73       152\n",
            "\n",
            "    accuracy                           0.94      1115\n",
            "   macro avg       0.93      0.80      0.85      1115\n",
            "weighted avg       0.94      0.94      0.93      1115\n",
            "\n",
            "GBC Area under ROC curve = 0.94\n"
          ],
          "name": "stdout"
        },
        {
          "output_type": "stream",
          "text": [
            "/usr/local/lib/python3.6/dist-packages/sklearn/metrics/_classification.py:1272: UndefinedMetricWarning: Precision and F-score are ill-defined and being set to 0.0 in labels with no predicted samples. Use `zero_division` parameter to control this behavior.\n",
            "  _warn_prf(average, modifier, msg_start, len(result))\n"
          ],
          "name": "stderr"
        }
      ]
    },
    {
      "cell_type": "code",
      "metadata": {
        "id": "1HTXH8hj-8KQ",
        "colab_type": "code",
        "colab": {}
      },
      "source": [
        ""
      ],
      "execution_count": 0,
      "outputs": []
    }
  ]
}